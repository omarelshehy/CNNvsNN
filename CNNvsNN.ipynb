{
  "nbformat": 4,
  "nbformat_minor": 0,
  "metadata": {
    "colab": {
      "name": "CNNvsNN.ipynb",
      "provenance": []
    },
    "kernelspec": {
      "name": "python3",
      "display_name": "Python 3"
    }
  },
  "cells": [
    {
      "cell_type": "code",
      "metadata": {
        "id": "5aSncr5349yR"
      },
      "source": [
        "import tensorflow as tf \r\n",
        "from tensorflow import keras \r\n",
        "from keras import models\r\n",
        "from tensorflow.keras import layers\r\n",
        "from tensorflow.keras.layers import Dense, Flatten, Conv2D,MaxPooling2D\r\n",
        "from tensorflow.keras import Model\r\n",
        "import numpy as np\r\n",
        "import pandas as pd \r\n",
        "import matplotlib as plt \r\n",
        "import matplotlib.pyplot as plt"
      ],
      "execution_count": 2,
      "outputs": []
    },
    {
      "cell_type": "code",
      "metadata": {
        "id": "8NaopzXq5gP8"
      },
      "source": [
        "#Getting the data and normalization \r\n",
        "(x_train,y_train),(x_test,y_test) =  keras.datasets.mnist.load_data()\r\n",
        "X_train,X_val = x_train[:7000]/255.0, x_train[7000:]/255.0 \r\n",
        "Y_train,Y_val = y_train[:7000], y_train[7000:] \r\n",
        "x_test =  x_test/255.0\r\n",
        "\r\n"
      ],
      "execution_count": 31,
      "outputs": []
    },
    {
      "cell_type": "code",
      "metadata": {
        "colab": {
          "base_uri": "https://localhost:8080/",
          "height": 282
        },
        "id": "6XOfyltqG3Nm",
        "outputId": "72224648-bf3e-4dbf-97e0-ea58151ca848"
      },
      "source": [
        "## example of the data (images from the Mnist dataset of hand-written digits)\r\n",
        "\r\n",
        "plt.imshow(X_train[0])"
      ],
      "execution_count": 6,
      "outputs": [
        {
          "output_type": "execute_result",
          "data": {
            "text/plain": [
              "<matplotlib.image.AxesImage at 0x7efd310ef470>"
            ]
          },
          "metadata": {
            "tags": []
          },
          "execution_count": 6
        },
        {
          "output_type": "display_data",
          "data": {
            "image/png": "[encoded data removed]",
            "text/plain": [
              "<Figure size 432x288 with 1 Axes>"
            ]
          },
          "metadata": {
            "tags": [],
            "needs_background": "light"
          }
        }
      ]
    },
    {
      "cell_type": "code",
      "metadata": {
        "id": "mQEf2rEl5t5T"
      },
      "source": [
        "#model layer structure \r\n",
        "model = keras.models.Sequential([\r\n",
        "    keras.layers.Flatten(input_shape =[28,28]),\r\n",
        "    keras.layers.Dense(600,activation = 'relu'),\r\n",
        "    keras.layers.Dropout(0.4, noise_shape=None, seed=None),\r\n",
        "    keras.layers.Dense(300,activation = 'relu'),\r\n",
        "    keras.layers.Dropout(0.7, noise_shape=None, seed=None),\r\n",
        "    keras.layers.Dense(100,activation = 'relu'),\r\n",
        "    \r\n",
        "    keras.layers.Dense(10,activation = 'softmax')\r\n",
        "    ])"
      ],
      "execution_count": 59,
      "outputs": []
    },
    {
      "cell_type": "code",
      "metadata": {
        "colab": {
          "base_uri": "https://localhost:8080/"
        },
        "id": "ffaf-8uR50vi",
        "outputId": "3328bafe-e44f-425e-ee52-4a90be898edf"
      },
      "source": [
        "#compiling model and training\r\n",
        "model.compile(loss=\"sparse_categorical_crossentropy\",\r\n",
        "optimizer=\"sgd\",\r\n",
        "metrics=[\"accuracy\"])\r\n",
        "\r\n",
        "history = model.fit(X_train, Y_train, epochs=50, validation_data=(X_val, Y_val))"
      ],
      "execution_count": 60,
      "outputs": [
        {
          "output_type": "stream",
          "text": [
            "Epoch 1/50\n",
            "219/219 [==============================] - 6s 25ms/step - loss: 2.2641 - accuracy: 0.1756 - val_loss: 1.5874 - val_accuracy: 0.7119\n",
            "Epoch 2/50\n",
            "219/219 [==============================] - 5s 22ms/step - loss: 1.5965 - accuracy: 0.4930 - val_loss: 0.8409 - val_accuracy: 0.7938\n",
            "Epoch 3/50\n",
            "219/219 [==============================] - 5s 22ms/step - loss: 1.0587 - accuracy: 0.6499 - val_loss: 0.6014 - val_accuracy: 0.8311\n",
            "Epoch 4/50\n",
            "219/219 [==============================] - 5s 21ms/step - loss: 0.8530 - accuracy: 0.7229 - val_loss: 0.5061 - val_accuracy: 0.8511\n",
            "Epoch 5/50\n",
            "219/219 [==============================] - 5s 21ms/step - loss: 0.6967 - accuracy: 0.7789 - val_loss: 0.4462 - val_accuracy: 0.8693\n",
            "Epoch 6/50\n",
            "219/219 [==============================] - 5s 21ms/step - loss: 0.6215 - accuracy: 0.7999 - val_loss: 0.4237 - val_accuracy: 0.8705\n",
            "Epoch 7/50\n",
            "219/219 [==============================] - 5s 22ms/step - loss: 0.5311 - accuracy: 0.8348 - val_loss: 0.3832 - val_accuracy: 0.8859\n",
            "Epoch 8/50\n",
            "219/219 [==============================] - 5s 22ms/step - loss: 0.4915 - accuracy: 0.8534 - val_loss: 0.3609 - val_accuracy: 0.8929\n",
            "Epoch 9/50\n",
            "219/219 [==============================] - 5s 22ms/step - loss: 0.4966 - accuracy: 0.8520 - val_loss: 0.3468 - val_accuracy: 0.8957\n",
            "Epoch 10/50\n",
            "219/219 [==============================] - 5s 21ms/step - loss: 0.4458 - accuracy: 0.8695 - val_loss: 0.3316 - val_accuracy: 0.8995\n",
            "Epoch 11/50\n",
            "219/219 [==============================] - 5s 21ms/step - loss: 0.4495 - accuracy: 0.8657 - val_loss: 0.3187 - val_accuracy: 0.9037\n",
            "Epoch 12/50\n",
            "219/219 [==============================] - 5s 21ms/step - loss: 0.3846 - accuracy: 0.8866 - val_loss: 0.3161 - val_accuracy: 0.9039\n",
            "Epoch 13/50\n",
            "219/219 [==============================] - 5s 22ms/step - loss: 0.3888 - accuracy: 0.8822 - val_loss: 0.3032 - val_accuracy: 0.9079\n",
            "Epoch 14/50\n",
            "219/219 [==============================] - 5s 21ms/step - loss: 0.3643 - accuracy: 0.8919 - val_loss: 0.2950 - val_accuracy: 0.9100\n",
            "Epoch 15/50\n",
            "219/219 [==============================] - 5s 22ms/step - loss: 0.3509 - accuracy: 0.8977 - val_loss: 0.2860 - val_accuracy: 0.9126\n",
            "Epoch 16/50\n",
            "219/219 [==============================] - 5s 21ms/step - loss: 0.3391 - accuracy: 0.8991 - val_loss: 0.2817 - val_accuracy: 0.9140\n",
            "Epoch 17/50\n",
            "219/219 [==============================] - 5s 21ms/step - loss: 0.3240 - accuracy: 0.9047 - val_loss: 0.2726 - val_accuracy: 0.9166\n",
            "Epoch 18/50\n",
            "219/219 [==============================] - 5s 22ms/step - loss: 0.2973 - accuracy: 0.9044 - val_loss: 0.2687 - val_accuracy: 0.9182\n",
            "Epoch 19/50\n",
            "219/219 [==============================] - 5s 22ms/step - loss: 0.3091 - accuracy: 0.9110 - val_loss: 0.2619 - val_accuracy: 0.9198\n",
            "Epoch 20/50\n",
            "219/219 [==============================] - 5s 22ms/step - loss: 0.2882 - accuracy: 0.9170 - val_loss: 0.2580 - val_accuracy: 0.9220\n",
            "Epoch 21/50\n",
            "219/219 [==============================] - 5s 21ms/step - loss: 0.2799 - accuracy: 0.9172 - val_loss: 0.2553 - val_accuracy: 0.9225\n",
            "Epoch 22/50\n",
            "219/219 [==============================] - 5s 22ms/step - loss: 0.2636 - accuracy: 0.9180 - val_loss: 0.2514 - val_accuracy: 0.9233\n",
            "Epoch 23/50\n",
            "219/219 [==============================] - 5s 22ms/step - loss: 0.2769 - accuracy: 0.9176 - val_loss: 0.2458 - val_accuracy: 0.9248\n",
            "Epoch 24/50\n",
            "219/219 [==============================] - 5s 22ms/step - loss: 0.2503 - accuracy: 0.9237 - val_loss: 0.2471 - val_accuracy: 0.9252\n",
            "Epoch 25/50\n",
            "219/219 [==============================] - 5s 21ms/step - loss: 0.2425 - accuracy: 0.9295 - val_loss: 0.2396 - val_accuracy: 0.9274\n",
            "Epoch 26/50\n",
            "219/219 [==============================] - 5s 21ms/step - loss: 0.2298 - accuracy: 0.9325 - val_loss: 0.2381 - val_accuracy: 0.9279\n",
            "Epoch 27/50\n",
            "219/219 [==============================] - 5s 22ms/step - loss: 0.2393 - accuracy: 0.9287 - val_loss: 0.2337 - val_accuracy: 0.9297\n",
            "Epoch 28/50\n",
            "219/219 [==============================] - 5s 22ms/step - loss: 0.2194 - accuracy: 0.9366 - val_loss: 0.2310 - val_accuracy: 0.9302\n",
            "Epoch 29/50\n",
            "219/219 [==============================] - 5s 22ms/step - loss: 0.2115 - accuracy: 0.9376 - val_loss: 0.2297 - val_accuracy: 0.9315\n",
            "Epoch 30/50\n",
            "219/219 [==============================] - 5s 23ms/step - loss: 0.2145 - accuracy: 0.9387 - val_loss: 0.2265 - val_accuracy: 0.9324\n",
            "Epoch 31/50\n",
            "219/219 [==============================] - 5s 22ms/step - loss: 0.2140 - accuracy: 0.9344 - val_loss: 0.2272 - val_accuracy: 0.9328\n",
            "Epoch 32/50\n",
            "219/219 [==============================] - 5s 22ms/step - loss: 0.1978 - accuracy: 0.9449 - val_loss: 0.2259 - val_accuracy: 0.9327\n",
            "Epoch 33/50\n",
            "219/219 [==============================] - 5s 21ms/step - loss: 0.1923 - accuracy: 0.9401 - val_loss: 0.2226 - val_accuracy: 0.9333\n",
            "Epoch 34/50\n",
            "219/219 [==============================] - 5s 21ms/step - loss: 0.2045 - accuracy: 0.9413 - val_loss: 0.2200 - val_accuracy: 0.9344\n",
            "Epoch 35/50\n",
            "219/219 [==============================] - 5s 21ms/step - loss: 0.1799 - accuracy: 0.9440 - val_loss: 0.2183 - val_accuracy: 0.9352\n",
            "Epoch 36/50\n",
            "219/219 [==============================] - 5s 21ms/step - loss: 0.1745 - accuracy: 0.9437 - val_loss: 0.2189 - val_accuracy: 0.9352\n",
            "Epoch 37/50\n",
            "219/219 [==============================] - 5s 21ms/step - loss: 0.1720 - accuracy: 0.9495 - val_loss: 0.2147 - val_accuracy: 0.9370\n",
            "Epoch 38/50\n",
            "219/219 [==============================] - 5s 21ms/step - loss: 0.1685 - accuracy: 0.9533 - val_loss: 0.2141 - val_accuracy: 0.9370\n",
            "Epoch 39/50\n",
            "219/219 [==============================] - 5s 21ms/step - loss: 0.1592 - accuracy: 0.9509 - val_loss: 0.2131 - val_accuracy: 0.9373\n",
            "Epoch 40/50\n",
            "219/219 [==============================] - 5s 21ms/step - loss: 0.1543 - accuracy: 0.9536 - val_loss: 0.2136 - val_accuracy: 0.9378\n",
            "Epoch 41/50\n",
            "219/219 [==============================] - 5s 21ms/step - loss: 0.1339 - accuracy: 0.9631 - val_loss: 0.2121 - val_accuracy: 0.9381\n",
            "Epoch 42/50\n",
            "219/219 [==============================] - 5s 21ms/step - loss: 0.1459 - accuracy: 0.9539 - val_loss: 0.2099 - val_accuracy: 0.9386\n",
            "Epoch 43/50\n",
            "219/219 [==============================] - 5s 21ms/step - loss: 0.1342 - accuracy: 0.9595 - val_loss: 0.2088 - val_accuracy: 0.9388\n",
            "Epoch 44/50\n",
            "219/219 [==============================] - 5s 22ms/step - loss: 0.1349 - accuracy: 0.9619 - val_loss: 0.2083 - val_accuracy: 0.9393\n",
            "Epoch 45/50\n",
            "219/219 [==============================] - 5s 21ms/step - loss: 0.1318 - accuracy: 0.9599 - val_loss: 0.2059 - val_accuracy: 0.9404\n",
            "Epoch 46/50\n",
            "219/219 [==============================] - 5s 21ms/step - loss: 0.1265 - accuracy: 0.9649 - val_loss: 0.2064 - val_accuracy: 0.9409\n",
            "Epoch 47/50\n",
            "219/219 [==============================] - 5s 21ms/step - loss: 0.1213 - accuracy: 0.9637 - val_loss: 0.2074 - val_accuracy: 0.9407\n",
            "Epoch 48/50\n",
            "219/219 [==============================] - 5s 22ms/step - loss: 0.1243 - accuracy: 0.9637 - val_loss: 0.2036 - val_accuracy: 0.9414\n",
            "Epoch 49/50\n",
            "219/219 [==============================] - 5s 21ms/step - loss: 0.1171 - accuracy: 0.9676 - val_loss: 0.2045 - val_accuracy: 0.9414\n",
            "Epoch 50/50\n",
            "219/219 [==============================] - 5s 21ms/step - loss: 0.1054 - accuracy: 0.9701 - val_loss: 0.1993 - val_accuracy: 0.9424\n"
          ],
          "name": "stdout"
        }
      ]
    },
    {
      "cell_type": "code",
      "metadata": {
        "colab": {
          "base_uri": "https://localhost:8080/",
          "height": 338
        },
        "id": "fl7Myrx_7HGP",
        "outputId": "494cd0e8-4a85-4945-8804-9b762be56fca"
      },
      "source": [
        "pd.DataFrame(history.history).plot(figsize=(8, 5))\r\n",
        "plt.grid(True)\r\n",
        "plt.gca().set_ylim(0, 1) # set the vertical range to [0-1]\r\n",
        "plt.xlabel('Epochs')\r\n",
        "plt.show()"
      ],
      "execution_count": 9,
      "outputs": [
        {
          "output_type": "display_data",
          "data": {
            "image/png": "[encoded data removed]",
            "text/plain": [
              "<Figure size 576x360 with 1 Axes>"
            ]
          },
          "metadata": {
            "tags": [],
            "needs_background": "light"
          }
        }
      ]
    },
    {
      "cell_type": "code",
      "metadata": {
        "colab": {
          "base_uri": "https://localhost:8080/"
        },
        "id": "3VS79wZd_P-t",
        "outputId": "2623888a-5b8b-411d-e7d2-f26f6d9a7481"
      },
      "source": [
        "acc_num = 0\r\n",
        "for image,label in zip(x_test[:100],y_test[:100]):\r\n",
        "    output = model.predict(np.expand_dims(image,axis = 0))\r\n",
        "    idx = np.argmax(output)\r\n",
        "    if(idx  == label):\r\n",
        "      acc_num+=1\r\n",
        "      \r\n",
        "accuracy =  acc_num/len(Y_test[:100]) \r\n",
        "print('the acuuracy of the model is' , accuracy)\r\n",
        "\r\n",
        "    "
      ],
      "execution_count": 13,
      "outputs": [
        {
          "output_type": "stream",
          "text": [
            "the acuuracy of the model is 0.96\n"
          ],
          "name": "stdout"
        }
      ]
    },
    {
      "cell_type": "code",
      "metadata": {
        "id": "DWEiU3CJCkq4"
      },
      "source": [
        "# now we use a simple cnn for classification and then analyse the difference \r\n",
        "\r\n",
        "# we will use towo conv layers only \r\n",
        "\r\n",
        "#model class\r\n",
        "class conv_net(tf.keras.Model):\r\n",
        "      def __init__(self):\r\n",
        "        super(conv_net,self).__init__()\r\n",
        "        self.conv1 = Conv2D(16, (3,3), activation='relu')\r\n",
        "        self.conv2 = Conv2D(32, (3,3), activation='relu') \r\n",
        "        self.maxpool = MaxPooling2D((2, 2))\r\n",
        "        self.lin_1 =  Flatten(input_shape = [7,7,1])\r\n",
        "        self.lin_2 = Dense(10, activation = 'softmax')\r\n",
        "        \r\n",
        "\r\n",
        "      def call(self, x):\r\n",
        "        x = self.conv1(x)\r\n",
        "        x = self.maxpool(x)\r\n",
        "        x = self.conv2(x)\r\n",
        "        x =self.maxpool(x)\r\n",
        "        x = self.lin_1(x)\r\n",
        "        x = self.lin_2(x)\r\n",
        "        return x\r\n",
        "\r\n",
        "      \r\n"
      ],
      "execution_count": 32,
      "outputs": []
    },
    {
      "cell_type": "code",
      "metadata": {
        "id": "5I_H7PmGggP7"
      },
      "source": [
        "\r\n",
        "#reshape the input size to pass it to the conv net \r\n",
        "X_train = np.expand_dims(X_train, -1)\r\n",
        "x_test = np.expand_dims(x_test, -1)\r\n",
        "X_val = np.expand_dims(X_val, -1)"
      ],
      "execution_count": 33,
      "outputs": []
    },
    {
      "cell_type": "code",
      "metadata": {
        "colab": {
          "base_uri": "https://localhost:8080/"
        },
        "id": "g4tTCzOQTkJV",
        "outputId": "afa0dacf-139a-4d9b-e39d-de4f4d25f8df"
      },
      "source": [
        "# creat model \r\n",
        "\r\n",
        "cnn_mod =  conv_net()\r\n",
        "\r\n",
        "cnn_mod.build((None,28,28,1))\r\n",
        "\r\n",
        "print(cnn_mod.summary())"
      ],
      "execution_count": 34,
      "outputs": [
        {
          "output_type": "stream",
          "text": [
            "Model: \"conv_net\"\n",
            "_________________________________________________________________\n",
            "Layer (type)                 Output Shape              Param #   \n",
            "=================================================================\n",
            "conv2d (Conv2D)              multiple                  160       \n",
            "_________________________________________________________________\n",
            "conv2d_1 (Conv2D)            multiple                  4640      \n",
            "_________________________________________________________________\n",
            "max_pooling2d (MaxPooling2D) multiple                  0         \n",
            "_________________________________________________________________\n",
            "flatten (Flatten)            multiple                  0         \n",
            "_________________________________________________________________\n",
            "dense (Dense)                multiple                  8010      \n",
            "=================================================================\n",
            "Total params: 12,810\n",
            "Trainable params: 12,810\n",
            "Non-trainable params: 0\n",
            "_________________________________________________________________\n",
            "None\n"
          ],
          "name": "stdout"
        }
      ]
    },
    {
      "cell_type": "code",
      "metadata": {
        "id": "59JyHD2KaDTL"
      },
      "source": [
        "#compile model \r\n",
        "cnn_mod.compile(optimizer = 'adam', loss=\"sparse_categorical_crossentropy\",metrics = ['accuracy'])"
      ],
      "execution_count": 35,
      "outputs": []
    },
    {
      "cell_type": "code",
      "metadata": {
        "colab": {
          "base_uri": "https://localhost:8080/"
        },
        "id": "sbnZT4ZY4_WN",
        "outputId": "5d214bb4-83a9-4531-e254-56b771d3edc8"
      },
      "source": [
        "# We make a checke point to save the weights of the network with the best validation acuuracy \r\n",
        "checkpoint_filepath = '/tmp/checkpoint'\r\n",
        "model_checkpoint_callback = tf.keras.callbacks.ModelCheckpoint(\r\n",
        "    filepath=checkpoint_filepath,\r\n",
        "    save_weights_only=True,\r\n",
        "    monitor='val_accuracy',\r\n",
        "    mode='max',\r\n",
        "    save_best_only=True)\r\n",
        "\r\n",
        "history = cnn_mod.fit(X_train, Y_train, batch_size=128,epochs=30, validation_data=(X_val, Y_val),callbacks=[model_checkpoint_callback])"
      ],
      "execution_count": 36,
      "outputs": [
        {
          "output_type": "stream",
          "text": [
            "Epoch 1/30\n",
            "55/55 [==============================] - 10s 180ms/step - loss: 1.9873 - accuracy: 0.4107 - val_loss: 0.5714 - val_accuracy: 0.8390\n",
            "Epoch 2/30\n",
            "55/55 [==============================] - 9s 175ms/step - loss: 0.4275 - accuracy: 0.8820 - val_loss: 0.3215 - val_accuracy: 0.9029\n",
            "Epoch 3/30\n",
            "55/55 [==============================] - 9s 175ms/step - loss: 0.2603 - accuracy: 0.9223 - val_loss: 0.2519 - val_accuracy: 0.9253\n",
            "Epoch 4/30\n",
            "55/55 [==============================] - 10s 175ms/step - loss: 0.2061 - accuracy: 0.9424 - val_loss: 0.2120 - val_accuracy: 0.9362\n",
            "Epoch 5/30\n",
            "55/55 [==============================] - 10s 175ms/step - loss: 0.1619 - accuracy: 0.9516 - val_loss: 0.2037 - val_accuracy: 0.9394\n",
            "Epoch 6/30\n",
            "55/55 [==============================] - 10s 177ms/step - loss: 0.1325 - accuracy: 0.9626 - val_loss: 0.1743 - val_accuracy: 0.9460\n",
            "Epoch 7/30\n",
            "55/55 [==============================] - 10s 175ms/step - loss: 0.1247 - accuracy: 0.9674 - val_loss: 0.1476 - val_accuracy: 0.9552\n",
            "Epoch 8/30\n",
            "55/55 [==============================] - 10s 176ms/step - loss: 0.1114 - accuracy: 0.9679 - val_loss: 0.1359 - val_accuracy: 0.9587\n",
            "Epoch 9/30\n",
            "55/55 [==============================] - 10s 176ms/step - loss: 0.0906 - accuracy: 0.9717 - val_loss: 0.1323 - val_accuracy: 0.9603\n",
            "Epoch 10/30\n",
            "55/55 [==============================] - 10s 176ms/step - loss: 0.0764 - accuracy: 0.9778 - val_loss: 0.1378 - val_accuracy: 0.9583\n",
            "Epoch 11/30\n",
            "55/55 [==============================] - 10s 179ms/step - loss: 0.0805 - accuracy: 0.9784 - val_loss: 0.1218 - val_accuracy: 0.9632\n",
            "Epoch 12/30\n",
            "55/55 [==============================] - 10s 176ms/step - loss: 0.0701 - accuracy: 0.9785 - val_loss: 0.1110 - val_accuracy: 0.9667\n",
            "Epoch 13/30\n",
            "55/55 [==============================] - 9s 175ms/step - loss: 0.0542 - accuracy: 0.9852 - val_loss: 0.1130 - val_accuracy: 0.9657\n",
            "Epoch 14/30\n",
            "55/55 [==============================] - 10s 176ms/step - loss: 0.0551 - accuracy: 0.9834 - val_loss: 0.1071 - val_accuracy: 0.9676\n",
            "Epoch 15/30\n",
            "55/55 [==============================] - 10s 177ms/step - loss: 0.0497 - accuracy: 0.9861 - val_loss: 0.1037 - val_accuracy: 0.9682\n",
            "Epoch 16/30\n",
            "55/55 [==============================] - 10s 176ms/step - loss: 0.0405 - accuracy: 0.9873 - val_loss: 0.1164 - val_accuracy: 0.9657\n",
            "Epoch 17/30\n",
            "55/55 [==============================] - 10s 175ms/step - loss: 0.0483 - accuracy: 0.9862 - val_loss: 0.1050 - val_accuracy: 0.9692\n",
            "Epoch 18/30\n",
            "55/55 [==============================] - 10s 180ms/step - loss: 0.0385 - accuracy: 0.9890 - val_loss: 0.1078 - val_accuracy: 0.9684\n",
            "Epoch 19/30\n",
            "55/55 [==============================] - 10s 176ms/step - loss: 0.0366 - accuracy: 0.9885 - val_loss: 0.1125 - val_accuracy: 0.9663\n",
            "Epoch 20/30\n",
            "55/55 [==============================] - 10s 176ms/step - loss: 0.0323 - accuracy: 0.9922 - val_loss: 0.1052 - val_accuracy: 0.9698\n",
            "Epoch 21/30\n",
            "55/55 [==============================] - 10s 176ms/step - loss: 0.0313 - accuracy: 0.9927 - val_loss: 0.1175 - val_accuracy: 0.9657\n",
            "Epoch 22/30\n",
            "55/55 [==============================] - 10s 177ms/step - loss: 0.0331 - accuracy: 0.9908 - val_loss: 0.1078 - val_accuracy: 0.9688\n",
            "Epoch 23/30\n",
            "55/55 [==============================] - 10s 176ms/step - loss: 0.0270 - accuracy: 0.9937 - val_loss: 0.1046 - val_accuracy: 0.9709\n",
            "Epoch 24/30\n",
            "55/55 [==============================] - 10s 177ms/step - loss: 0.0209 - accuracy: 0.9954 - val_loss: 0.1035 - val_accuracy: 0.9706\n",
            "Epoch 25/30\n",
            "55/55 [==============================] - 10s 176ms/step - loss: 0.0193 - accuracy: 0.9959 - val_loss: 0.1044 - val_accuracy: 0.9712\n",
            "Epoch 26/30\n",
            "55/55 [==============================] - 10s 177ms/step - loss: 0.0175 - accuracy: 0.9952 - val_loss: 0.1086 - val_accuracy: 0.9700\n",
            "Epoch 27/30\n",
            "55/55 [==============================] - 10s 179ms/step - loss: 0.0174 - accuracy: 0.9966 - val_loss: 0.1056 - val_accuracy: 0.9717\n",
            "Epoch 28/30\n",
            "55/55 [==============================] - 10s 177ms/step - loss: 0.0142 - accuracy: 0.9974 - val_loss: 0.1109 - val_accuracy: 0.9707\n",
            "Epoch 29/30\n",
            "55/55 [==============================] - 10s 177ms/step - loss: 0.0138 - accuracy: 0.9971 - val_loss: 0.1077 - val_accuracy: 0.9722\n",
            "Epoch 30/30\n",
            "55/55 [==============================] - 10s 177ms/step - loss: 0.0138 - accuracy: 0.9977 - val_loss: 0.1104 - val_accuracy: 0.9717\n"
          ],
          "name": "stdout"
        }
      ]
    },
    {
      "cell_type": "code",
      "metadata": {
        "colab": {
          "base_uri": "https://localhost:8080/",
          "height": 338
        },
        "id": "oXIVsLFY89j1",
        "outputId": "a905919f-dddf-48a5-d98f-216de8e6237f"
      },
      "source": [
        "pd.DataFrame(history.history).plot(figsize=(8, 5))\r\n",
        "plt.grid(True)\r\n",
        "plt.gca().set_ylim(0, 1.2) \r\n",
        "plt.xlabel('Epochs')\r\n",
        "plt.show()"
      ],
      "execution_count": 37,
      "outputs": [
        {
          "output_type": "display_data",
          "data": {
            "image/png": "[encoded data removed]",
            "text/plain": [
              "<Figure size 576x360 with 1 Axes>"
            ]
          },
          "metadata": {
            "tags": [],
            "needs_background": "light"
          }
        }
      ]
    },
    {
      "cell_type": "code",
      "metadata": {
        "colab": {
          "base_uri": "https://localhost:8080/"
        },
        "id": "nyXO_Xil41jX",
        "outputId": "8dc0eb00-ebd4-47c7-eb05-547ff11d8f00"
      },
      "source": [
        "#load the model with the best validation accuracy \r\n",
        "\r\n",
        "cnn_mod.load_weights(checkpoint_filepath)"
      ],
      "execution_count": 38,
      "outputs": [
        {
          "output_type": "execute_result",
          "data": {
            "text/plain": [
              "<tensorflow.python.training.tracking.util.CheckpointLoadStatus at 0x7efd89c85240>"
            ]
          },
          "metadata": {
            "tags": []
          },
          "execution_count": 38
        }
      ]
    },
    {
      "cell_type": "code",
      "metadata": {
        "colab": {
          "base_uri": "https://localhost:8080/"
        },
        "id": "SXhDHyzM8-tE",
        "outputId": "12c4d56d-05ce-4cc7-dac2-cef5095cdae1"
      },
      "source": [
        "score = cnn_mod.evaluate(x_test, y_test, verbose=0)\r\n",
        "print(\"Test loss:\", score[0])\r\n",
        "print(\"Test accuracy:\", score[1])"
      ],
      "execution_count": 39,
      "outputs": [
        {
          "output_type": "stream",
          "text": [
            "Test loss: 0.08385593444108963\n",
            "Test accuracy: 0.9765999913215637\n"
          ],
          "name": "stdout"
        }
      ]
    },
    {
      "cell_type": "code",
      "metadata": {
        "colab": {
          "base_uri": "https://localhost:8080/",
          "height": 1000
        },
        "id": "iG1kurbM9biN",
        "outputId": "31953be3-d77b-4f05-9206-c2e2c13dd9d7"
      },
      "source": [
        "# show predictions of both networks \r\n",
        "\r\n",
        "print(x_test_nn.shape)\r\n",
        "\r\n",
        "for image in x_test[:10]:\r\n",
        "    \r\n",
        "    \r\n",
        "    second_pred = np.argmax(cnn_mod.predict(np.expand_dims(image,axis=0)))\r\n",
        "    \r\n",
        "    first_pred = np.argmax(model.predict(np.expand_dims(image.reshape(28,28),axis =0)))\r\n",
        "    plt.imshow(image.reshape(28,28))\r\n",
        "    \r\n",
        "    plt.show()\r\n",
        "\r\n",
        "    print('Prediction of the simple neural network is',second_pred,'while the prediction of the CNN is',first_pred)"
      ],
      "execution_count": 94,
      "outputs": [
        {
          "output_type": "stream",
          "text": [
            "(28, 28, 1)\n"
          ],
          "name": "stdout"
        },
        {
          "output_type": "display_data",
          "data": {
            "image/png": "[encoded data removed]",
            "text/plain": [
              "<Figure size 432x288 with 1 Axes>"
            ]
          },
          "metadata": {
            "tags": [],
            "needs_background": "light"
          }
        },
        {
          "output_type": "stream",
          "text": [
            "Prediction of the simple neural network is 7 while the prediction of the CNN is 7\n"
          ],
          "name": "stdout"
        },
        {
          "output_type": "display_data",
          "data": {
            "image/png": "[encoded data removed]",
            "text/plain": [
              "<Figure size 432x288 with 1 Axes>"
            ]
          },
          "metadata": {
            "tags": [],
            "needs_background": "light"
          }
        },
        {
          "output_type": "stream",
          "text": [
            "Prediction of the simple neural network is 2 while the prediction of the CNN is 2\n"
          ],
          "name": "stdout"
        },
        {
          "output_type": "display_data",
          "data": {
            "image/png": "[encoded data removed]",
            "text/plain": [
              "<Figure size 432x288 with 1 Axes>"
            ]
          },
          "metadata": {
            "tags": [],
            "needs_background": "light"
          }
        },
        {
          "output_type": "stream",
          "text": [
            "Prediction of the simple neural network is 1 while the prediction of the CNN is 1\n"
          ],
          "name": "stdout"
        },
        {
          "output_type": "display_data",
          "data": {
            "image/png": "[encoded data removed]",
            "text/plain": [
              "<Figure size 432x288 with 1 Axes>"
            ]
          },
          "metadata": {
            "tags": [],
            "needs_background": "light"
          }
        },
        {
          "output_type": "stream",
          "text": [
            "Prediction of the simple neural network is 0 while the prediction of the CNN is 0\n"
          ],
          "name": "stdout"
        },
        {
          "output_type": "display_data",
          "data": {
            "image/png": "[encoded data removed]",
            "text/plain": [
              "<Figure size 432x288 with 1 Axes>"
            ]
          },
          "metadata": {
            "tags": [],
            "needs_background": "light"
          }
        },
        {
          "output_type": "stream",
          "text": [
            "Prediction of the simple neural network is 4 while the prediction of the CNN is 4\n"
          ],
          "name": "stdout"
        },
        {
          "output_type": "display_data",
          "data": {
            "image/png": "[encoded data removed]",
            "text/plain": [
              "<Figure size 432x288 with 1 Axes>"
            ]
          },
          "metadata": {
            "tags": [],
            "needs_background": "light"
          }
        },
        {
          "output_type": "stream",
          "text": [
            "Prediction of the simple neural network is 1 while the prediction of the CNN is 1\n"
          ],
          "name": "stdout"
        },
        {
          "output_type": "display_data",
          "data": {
            "image/png": "[encoded data removed]",
            "text/plain": [
              "<Figure size 432x288 with 1 Axes>"
            ]
          },
          "metadata": {
            "tags": [],
            "needs_background": "light"
          }
        },
        {
          "output_type": "stream",
          "text": [
            "Prediction of the simple neural network is 4 while the prediction of the CNN is 4\n"
          ],
          "name": "stdout"
        },
        {
          "output_type": "display_data",
          "data": {
            "image/png": "[encoded data removed]",
            "text/plain": [
              "<Figure size 432x288 with 1 Axes>"
            ]
          },
          "metadata": {
            "tags": [],
            "needs_background": "light"
          }
        },
        {
          "output_type": "stream",
          "text": [
            "Prediction of the simple neural network is 9 while the prediction of the CNN is 9\n"
          ],
          "name": "stdout"
        },
        {
          "output_type": "display_data",
          "data": {
            "image/png": "[encoded data removed]",
            "text/plain": [
              "<Figure size 432x288 with 1 Axes>"
            ]
          },
          "metadata": {
            "tags": [],
            "needs_background": "light"
          }
        },
        {
          "output_type": "stream",
          "text": [
            "Prediction of the simple neural network is 5 while the prediction of the CNN is 6\n"
          ],
          "name": "stdout"
        },
        {
          "output_type": "display_data",
          "data": {
            "image/png": "[encoded data removed]",
            "text/plain": [
              "<Figure size 432x288 with 1 Axes>"
            ]
          },
          "metadata": {
            "tags": [],
            "needs_background": "light"
          }
        },
        {
          "output_type": "stream",
          "text": [
            "Prediction of the simple neural network is 9 while the prediction of the CNN is 9\n"
          ],
          "name": "stdout"
        }
      ]
    },
    {
      "cell_type": "code",
      "metadata": {
        "id": "ut8KiVJC7l6P"
      },
      "source": [
        ""
      ],
      "execution_count": null,
      "outputs": []
    }
  ]
}